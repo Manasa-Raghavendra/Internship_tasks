{
  "nbformat": 4,
  "nbformat_minor": 0,
  "metadata": {
    "colab": {
      "provenance": [],
      "gpuType": "T4",
      "authorship_tag": "ABX9TyMU6BTiNQdllOWmjnCP1+DI",
      "include_colab_link": true
    },
    "kernelspec": {
      "name": "python3",
      "display_name": "Python 3"
    },
    "language_info": {
      "name": "python"
    },
    "accelerator": "GPU"
  },
  "cells": [
    {
      "cell_type": "markdown",
      "metadata": {
        "id": "view-in-github",
        "colab_type": "text"
      },
      "source": [
        "<a href=\"https://colab.research.google.com/github/Manasa-Raghavendra/Internship_tasks/blob/main/markov_chain.ipynb\" target=\"_parent\"><img src=\"https://colab.research.google.com/assets/colab-badge.svg\" alt=\"Open In Colab\"/></a>"
      ]
    },
    {
      "cell_type": "code",
      "execution_count": 3,
      "metadata": {
        "id": "8d6HKZqod97o"
      },
      "outputs": [],
      "source": [
        "text = \"\"\"\n",
        "Once upon a time there was a king who ruled a large kingdom.\n",
        "The king was kind and generous, and his people loved him very much.\n",
        "He built schools, hospitals, and markets so that everyone could live happily.\n",
        "The people of the kingdom worked hard in their fields and were always thankful.\n",
        "\n",
        "One day, a wise man came to the kingdom with a secret message.\n",
        "The message said that great adventures awaited the king and his people.\n",
        "The wise man told the king about lands far away filled with treasures and mysteries.\n",
        "He said that if the king was brave, the kingdom would prosper even more.\n",
        "\n",
        "The king decided to go on a great journey.\n",
        "He gathered his soldiers, his ministers, and his trusted friends.\n",
        "Together they crossed rivers, climbed mountains, and traveled through deep forests.\n",
        "Along the way, they met kind villagers who shared food and gave directions.\n",
        "\n",
        "But not everything was easy.\n",
        "They also faced storms, wild animals, and sleepless nights under the stars.\n",
        "The king never lost hope, and his people trusted him.\n",
        "Slowly, their journey became a story of courage, friendship, and wisdom.\n",
        "\n",
        "When they finally returned to the kingdom, everyone cheered with joy.\n",
        "The adventures had taught them that kindness and unity were the greatest treasures.\n",
        "From that day on, the kingdom grew stronger and happier than ever.\n",
        "The story of the king’s journey was told for generations.\n",
        "\"\"\"\n"
      ]
    },
    {
      "cell_type": "code",
      "source": [
        "import random\n",
        "\n",
        "# Split the dataset into words\n",
        "words = text.split()\n",
        "\n",
        "# Create a dictionary to store word transitions\n",
        "markov_chain = {}\n",
        "\n",
        "for current_word, next_word in zip(words[:-1], words[1:]):\n",
        "    if current_word not in markov_chain:\n",
        "        markov_chain[current_word] = []\n",
        "    markov_chain[current_word].append(next_word)\n",
        "\n",
        "# Check first 5 entries\n",
        "for word in list(markov_chain.keys())[:5]:\n",
        "    print(f\"{word}: {markov_chain[word]}\")\n"
      ],
      "metadata": {
        "colab": {
          "base_uri": "https://localhost:8080/"
        },
        "id": "ohJF9TKceHLH",
        "outputId": "08556313-e903-4304-fdb8-3574374122d9"
      },
      "execution_count": 4,
      "outputs": [
        {
          "output_type": "stream",
          "name": "stdout",
          "text": [
            "Once: ['upon']\n",
            "upon: ['a']\n",
            "a: ['time', 'king', 'large', 'wise', 'secret', 'great', 'story']\n",
            "time: ['there']\n",
            "there: ['was']\n"
          ]
        }
      ]
    },
    {
      "cell_type": "code",
      "source": [
        "def generate_text(chain, start_word, length=300):\n",
        "    word = start_word\n",
        "    output = [word]\n",
        "\n",
        "    for _ in range(length - 1):\n",
        "        if word in chain:\n",
        "            word = random.choice(chain[word])  # pick a random next word\n",
        "            output.append(word)\n",
        "        else:\n",
        "            break  # stop if no next word is found\n",
        "\n",
        "    return \" \".join(output)\n",
        "\n",
        "# Example: start with \"Once\"\n",
        "generated_text = generate_text(markov_chain, \"Once\", length=300)\n",
        "print(\"Generated Text:\\n\", generated_text)\n"
      ],
      "metadata": {
        "colab": {
          "base_uri": "https://localhost:8080/"
        },
        "id": "Rfs10BgbeWzS",
        "outputId": "a7616235-64fd-4206-ab2a-18fe72de7016"
      },
      "execution_count": 5,
      "outputs": [
        {
          "output_type": "stream",
          "name": "stdout",
          "text": [
            "Generated Text:\n",
            " Once upon a great adventures had taught them that day on, the kingdom worked hard in their fields and his people trusted him. Slowly, their fields and wisdom. When they met kind and his people. The king was easy. They also faced storms, wild animals, and were the king’s journey was a wise man came to the kingdom, everyone could live happily. The story of the kingdom worked hard in their journey became a time there was a king about lands far away filled with a wise man told the way, they finally returned to go on a large kingdom. The message said that great adventures awaited the kingdom worked hard in their journey became a time there was brave, the greatest treasures. From that day on, the greatest treasures. From that great journey. He built schools, hospitals, and his trusted him. Slowly, their journey became a great journey. He built schools, hospitals, and were always thankful. One day, a great adventures had taught them that kindness and his trusted friends. Together they met kind villagers who shared food and his people loved him very much. He built schools, hospitals, and unity were the king’s journey was easy. They also faced storms, wild animals, and unity were the kingdom would prosper even more. The story of the kingdom grew stronger and traveled through deep forests. Along the king who shared food and his people loved him very much. He built schools, hospitals, and generous, and his soldiers, his ministers, and his soldiers, his soldiers, his people trusted friends. Together they crossed rivers, climbed mountains, and markets so that kindness and wisdom. When they finally returned to the way, they crossed rivers, climbed mountains, and his people trusted friends. Together they crossed rivers, climbed mountains, and his people. The king decided\n"
          ]
        }
      ]
    },
    {
      "cell_type": "code",
      "source": [
        "\n",
        "while True:\n",
        "    start_word = random.choice(words)\n",
        "    generated_text = generate_text(markov_chain, start_word, length=50)\n",
        "\n",
        "    print(\"\\nGenerated Text:\\n\", generated_text)\n",
        "\n",
        "    choice = input(\"\\nDo you want to generate another text? (yes/no): \").strip().lower()\n",
        "    if choice != \"yes\":\n",
        "        print(\"Exiting the program.\")\n",
        "        break\n",
        "\n"
      ],
      "metadata": {
        "colab": {
          "base_uri": "https://localhost:8080/"
        },
        "id": "TQ2fOCp9ermX",
        "outputId": "25aac182-4969-44b3-b501-c09c6a36a55f"
      },
      "execution_count": 7,
      "outputs": [
        {
          "output_type": "stream",
          "name": "stdout",
          "text": [
            "\n",
            "Generated Text:\n",
            " and mysteries. He said that great journey. He said that if the way, they crossed rivers, climbed mountains, and were the king decided to the kingdom worked hard in their journey was told for generations.\n",
            "\n",
            "Do you want to generate another text? (yes/no): yes\n",
            "\n",
            "Generated Text:\n",
            " met kind villagers who shared food and happier than ever. The adventures awaited the kingdom grew stronger and traveled through deep forests. Along the kingdom with a secret message. The king and markets so that great adventures had taught them that kindness and unity were the way, they crossed rivers,\n",
            "\n",
            "Do you want to generate another text? (yes/no): no\n",
            "Exiting the program.\n"
          ]
        }
      ]
    },
    {
      "cell_type": "code",
      "source": [],
      "metadata": {
        "id": "1S2pehv9erPy"
      },
      "execution_count": null,
      "outputs": []
    }
  ]
}